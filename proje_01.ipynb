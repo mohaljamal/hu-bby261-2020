import re
text  = "Heroes who shed their blood and lost their lives! You are now lying in the soil of a friendly country. Therefore rest in peace. There is no difference between the Johnnies and Mehmets to us where they lie side by side here in this country of ours. You, the mothers, who sent their sons from far away countries wipe away your tears; your sons are now lying in our bosom and are in peace. After having lost their lives on this land they have become our sons as well."

word = input("Enter a word to search: ")
onlyLetters = re.sub("[^a-zA-Z ]+", "", text)
onlyLetters = " "+ onlyLetters + " "
onlyLetterLower = onlyLetters.lower()
count1 = text.count(" " +word.lower()+ " ")
count2 = onlyLetterLower.count(" " +word.lower()+ " ")
print(count1)
print(count2)
