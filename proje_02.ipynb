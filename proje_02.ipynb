{
  "nbformat": 4,
  "nbformat_minor": 0,
  "metadata": {
    "colab": {
      "name": "Untitled0.ipynb",
      "provenance": [],
      "authorship_tag": "ABX9TyPVEru7fX59F+x/2mSdyy2Y",
      "include_colab_link": true
    },
    "kernelspec": {
      "name": "python3",
      "display_name": "Python 3"
    }
  },
  "cells": [
    {
      "cell_type": "markdown",
      "metadata": {
        "id": "view-in-github",
        "colab_type": "text"
      },
      "source": [
        "<a href=\"https://colab.research.google.com/github/mohaljamal/hu-bby261-2020/blob/main/KmToMile.ipynb\" target=\"_parent\"><img src=\"https://colab.research.google.com/assets/colab-badge.svg\" alt=\"Open In Colab\"/></a>"
      ]
    },
    {
      "cell_type": "code",
      "metadata": {
        "id": "oHSx10gRZ7ly",
        "outputId": "283e7f4f-4181-42a4-b793-6ac46542b1af",
        "colab": {
          "base_uri": "https://localhost:8080/",
          "height": 721
        }
      },
      "source": [
        "import logging\n",
        "import numpy\n",
        "import tensorflow as tf\n",
        "import matplotlib.pyplot as plot\n",
        "\n",
        "\n",
        "\n",
        "logger = tf.get_logger()\n",
        "logger.setLevel(logging.ERROR)\n",
        "\n",
        "KM = numpy.array([0.01, 0.1,  1,  3, 5, 7, 11,20, 40,70,100,150 ],  dtype=float)\n",
        "MIL = numpy.array([0.0062, 0.062,0.62, 1.8641, 3.1069, 4.3496, 6.83508,12.4274,24.8548,43.496,62.1371,93.2057],  dtype=float)\n",
        "\n",
        "choice = input(\"Select:\\n(a) To convert KM to MILE\\n(b) To Convert MILE to KM\\n\")\n",
        "\n",
        "\n",
        "\n",
        "\n",
        "if choice==\"a\":\n",
        "  trainingTimes = int(input(\"Enter number of epochs: \"))\n",
        "  print(\"----- Training Values -----\")\n",
        "  for index,value in enumerate(KM):\n",
        "    print(\"{} KM = {} MIL\".format(value, MIL[index]))\n",
        "  print(\"---------------------------\")\n",
        "  kmToCalculate = float(input(\"Enter your KM value: \"))\n",
        "\n",
        "  l1 = tf.keras.layers.Dense(units=1, input_shape=[1])\n",
        "  model = tf.keras.Sequential([l1])\n",
        "  model.compile(loss='mean_squared_error', optimizer=tf.keras.optimizers.Adam(0.1)) \n",
        "  realExactAnswer = kmToCalculate * 0.621371\n",
        "  print(\"Exact value in MILES: {} mile\".format(realExactAnswer))\n",
        "  \n",
        "  print(\"---------------------------\")\n",
        "  print(\"Num of Epochs: {}\".format(trainingTimes))  \n",
        "  history= model.fit(KM, MIL, epochs=trainingTimes, verbose=False)\n",
        "  predictedValue = model.predict([kmToCalculate])\n",
        "  print(\"Predicted value in MILES: {} mile\".format(predictedValue))\n",
        "  plot.xlabel('epoch number')\n",
        "  plot.ylabel('loss magnitude')\n",
        "  plot.plot(history.history['loss'])\n",
        "  print(\"---------------------------\")\n",
        "  print(\"Layer variables: {}\".format(l1.get_weights()))\n",
        "\n",
        "elif choice == \"b\":\n",
        "  trainingTimes = int(input(\"Enter number of epochs: \"))\n",
        "  print(\"----- Training Values -----\")\n",
        "  for index,value in enumerate(KM):\n",
        "    print(\"{} MIL = {} KM\".format(MIL[index],value))\n",
        "  print(\"---------------------------\")\n",
        "  mileToCalculate = float(input(\"Enter your Mile value: \"))\n",
        "  l1 = tf.keras.layers.Dense(units=1, input_shape=[1])\n",
        "  model = tf.keras.Sequential([l1])\n",
        "  model.compile(loss='mean_squared_error', optimizer=tf.keras.optimizers.Adam(0.1))\n",
        "  \n",
        "  realExactAnswer = mileToCalculate / 0.621371\n",
        "  print(\"Exact value in KMs: {} km\".format(realExactAnswer))\n",
        " \n",
        "  print(\"---------------------------\")\n",
        "  print(\"Num of Epochs: {}\".format(trainingTimes))  \n",
        "  history= model.fit(MIL, KM, epochs=trainingTimes, verbose=False)\n",
        "  predictedValue = model.predict([mileToCalculate])\n",
        "  print(\"Predicted value in KMs: {} km\".format(predictedValue))\n",
        "  plot.xlabel('epoch number')\n",
        "  plot.ylabel('loss magnitude')\n",
        "\n",
        "  plot.plot(history.history['loss'])\n",
        "\n",
        "\n",
        "  print(\"---------------------------\")\n",
        "  print(\"Layer variables: {}\".format(l1.get_weights()))\n",
        "\n",
        "else:\n",
        "    print(\"You entered a choice that is not in the list\")"
      ],
      "execution_count": 3,
      "outputs": [
        {
          "output_type": "stream",
          "text": [
            "Select:\n",
            "(a) To convert KM to MILE\n",
            "(b) To Convert MILE to KM\n",
            "b\n",
            "Enter number of epochs: 20\n",
            "----- Training Values -----\n",
            "0.0062 MIL = 0.01 KM\n",
            "0.062 MIL = 0.1 KM\n",
            "0.62 MIL = 1.0 KM\n",
            "1.8641 MIL = 3.0 KM\n",
            "3.1069 MIL = 5.0 KM\n",
            "4.3496 MIL = 7.0 KM\n",
            "6.83508 MIL = 11.0 KM\n",
            "12.4274 MIL = 20.0 KM\n",
            "24.8548 MIL = 40.0 KM\n",
            "43.496 MIL = 70.0 KM\n",
            "62.1371 MIL = 100.0 KM\n",
            "93.2057 MIL = 150.0 KM\n",
            "---------------------------\n",
            "Enter your Mile value: 10\n",
            "Exact value in KMs: 16.093444978925632 km\n",
            "---------------------------\n",
            "Num of Epochs: 20\n",
            "Predicted value in KMs: [[19.678288]] km\n",
            "---------------------------\n",
            "Layer variables: [array([[1.8171662]], dtype=float32), array([1.5066265], dtype=float32)]\n"
          ],
          "name": "stdout"
        },
        {
          "output_type": "display_data",
          "data": {
            "image/png": "[encoded data removed]",
            "text/plain": [
              "<Figure size 432x288 with 1 Axes>"
            ]
          },
          "metadata": {
            "tags": [],
            "needs_background": "light"
          }
        }
      ]
    }
  ]
}
